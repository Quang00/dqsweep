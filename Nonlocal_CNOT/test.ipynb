{
 "cells": [
  {
   "cell_type": "code",
   "execution_count": 57,
   "metadata": {},
   "outputs": [
    {
     "name": "stdout",
     "output_type": "stream",
     "text": [
      "[1.00000000e+08 7.74263683e+07 5.99484250e+07 4.64158883e+07\n",
      " 3.59381366e+07 2.78255940e+07 2.15443469e+07 1.66810054e+07\n",
      " 1.29154967e+07 1.00000000e+07]\n",
      "[1.e+01 1.e+02 1.e+03 1.e+04 1.e+05 1.e+06 1.e+07 1.e+08 1.e+09 1.e+10]\n"
     ]
    }
   ],
   "source": [
    "import numpy as np \n",
    "print(np.logspace(8, 7, 10))\n",
    "print(np.logspace(1, 10, 10))"
   ]
  }
 ],
 "metadata": {
  "kernelspec": {
   "display_name": ".venv",
   "language": "python",
   "name": "python3"
  },
  "language_info": {
   "name": "python",
   "version": "3.10.11"
  }
 },
 "nbformat": 4,
 "nbformat_minor": 2
}
